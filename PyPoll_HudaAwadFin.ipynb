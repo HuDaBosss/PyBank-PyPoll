{
 "cells": [
  {
   "cell_type": "code",
   "execution_count": 9,
   "metadata": {},
   "outputs": [
    {
     "ename": "FileNotFoundError",
     "evalue": "[Errno 2] No such file or directory: 'election_data.csv'",
     "output_type": "error",
     "traceback": [
      "\u001b[1;31m---------------------------------------------------------------------------\u001b[0m",
      "\u001b[1;31mFileNotFoundError\u001b[0m                         Traceback (most recent call last)",
      "\u001b[1;32m<ipython-input-9-08b5153836ae>\u001b[0m in \u001b[0;36m<module>\u001b[1;34m\u001b[0m\n\u001b[0;32m      3\u001b[0m \u001b[1;33m\u001b[0m\u001b[0m\n\u001b[0;32m      4\u001b[0m \u001b[0mfilepath\u001b[0m \u001b[1;33m=\u001b[0m \u001b[1;34m\"resources/election_data.csv\"\u001b[0m\u001b[1;33m\u001b[0m\u001b[1;33m\u001b[0m\u001b[0m\n\u001b[1;32m----> 5\u001b[1;33m \u001b[1;32mwith\u001b[0m \u001b[0mopen\u001b[0m\u001b[1;33m(\u001b[0m\u001b[1;34m'election_data.csv'\u001b[0m\u001b[1;33m)\u001b[0m \u001b[1;32mas\u001b[0m \u001b[0mrevenue_data\u001b[0m\u001b[1;33m:\u001b[0m\u001b[1;33m\u001b[0m\u001b[1;33m\u001b[0m\u001b[0m\n\u001b[0m\u001b[0;32m      6\u001b[0m     \u001b[0mreader\u001b[0m \u001b[1;33m=\u001b[0m \u001b[0mcsv\u001b[0m\u001b[1;33m.\u001b[0m\u001b[0mDictReader\u001b[0m\u001b[1;33m(\u001b[0m\u001b[0mrevenue_data\u001b[0m\u001b[1;33m)\u001b[0m\u001b[1;33m\u001b[0m\u001b[1;33m\u001b[0m\u001b[0m\n\u001b[0;32m      7\u001b[0m \u001b[1;33m\u001b[0m\u001b[0m\n",
      "\u001b[1;31mFileNotFoundError\u001b[0m: [Errno 2] No such file or directory: 'election_data.csv'"
     ]
    }
   ],
   "source": [
    "import csv\n",
    "import os\n",
    "\n",
    "filepath = \"resources/election_data.csv\"\n",
    "with open('election_data.csv') as poll_data:\n",
    "    reader = csv.DictReader(election)\n",
    "\n",
    "#Define variables\n",
    "totalcount = 0; kcount = 0; ccount = 0; lcount = 0; ocount = 0; max_votecount = 0\n",
    "\n",
    "\n",
    "#calculation\n",
    "def percentage (part, whole):\n",
    "    return 100 * float(part)/float(whole)\n",
    "\n",
    "totalcount = totalcount + 1\n",
    "            \n",
    "for i in csvreader:\n",
    "    voterid = i[0]\n",
    "    country = i[1]\n",
    "    candiate = i[2]\n",
    "\n",
    "    if candidate == \"Khan\":\n",
    "        kcount = kcount + 1\n",
    "    if candidate == \"Correy\":\n",
    "        ccount = ccount + 1\n",
    "    if candidate == \"Li\":\n",
    "        lcount = lcount + 1\n",
    "    if candidate == \"O'Tooley\":\n",
    "        ocount = ocount + 1\n",
    "# Define (dictionary) list : candidate and votes\n",
    "candidatevote = {\"Khan\": kcount,\"Correy\": ccount,\"Li\" :lcount, \"O'Tooley\": ocount}\n",
    "     # Find winner \n",
    "for candidate, value in candidatevote.items():\n",
    "    if value > max_votecount:\n",
    "            max_votecount = value\n",
    "            winner = candidate\n",
    "# Show Results       \n",
    "print(f'Election Results'+'\\n')\n",
    "print(f'-------------------------------'+'\\n')\n",
    "print(f'Total Votes: {totalcount}'+'\\n')\n",
    "print(f'-------------------------------'+'\\n')\n",
    "\n",
    "print(f'Khan: {percentage(kcount,totalcount):.3f}%  ({kcount})')\n",
    "print(f'Correy: {percentage(ccount,totalcount):.3f}%  ({ccount})')\n",
    "print(f'Li: {percentage(lcount,totalcount):.3f}%  ({lcount})')\n",
    "print(f'O\\'Tooley: {percentage(ocount,totalcount):.3f}%  ({ocount})')\n",
    "print(f'--------------------------------'+'\\n')\n",
    "print(f'Winner: {winner} '+'\\n')\n",
    "print(f'--------------------------------'+'\\n')"
   ]
  },
  {
   "cell_type": "code",
   "execution_count": null,
   "metadata": {},
   "outputs": [],
   "source": []
  }
 ],
 "metadata": {
  "kernelspec": {
   "display_name": "Python 3",
   "language": "python",
   "name": "python3"
  },
  "language_info": {
   "codemirror_mode": {
    "name": "ipython",
    "version": 3
   },
   "file_extension": ".py",
   "mimetype": "text/x-python",
   "name": "python",
   "nbconvert_exporter": "python",
   "pygments_lexer": "ipython3",
   "version": "3.7.1"
  }
 },
 "nbformat": 4,
 "nbformat_minor": 2
}
